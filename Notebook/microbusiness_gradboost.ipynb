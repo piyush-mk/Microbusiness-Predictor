{
 "metadata": {
  "kernelspec": {
   "language": "python",
   "display_name": "Python 3",
   "name": "python3"
  },
  "language_info": {
   "name": "python",
   "version": "3.7.12",
   "mimetype": "text/x-python",
   "codemirror_mode": {
    "name": "ipython",
    "version": 3
   },
   "pygments_lexer": "ipython3",
   "nbconvert_exporter": "python",
   "file_extension": ".py"
  }
 },
 "nbformat_minor": 4,
 "nbformat": 4,
 "cells": [
  {
   "cell_type": "code",
   "source": [
    "import numpy as np\n",
    "import pandas as pd\n",
    "import matplotlib.pyplot as plt\n",
    "from sklearn.ensemble import GradientBoostingRegressor\n"
   ],
   "metadata": {
    "_uuid": "8f2839f25d086af736a60e9eeb907d3b93b6e0e5",
    "_cell_guid": "b1076dfc-b9ad-4769-8c92-a6c4dae69d19",
    "execution": {
     "iopub.status.busy": "2022-12-23T08:54:37.144025Z",
     "iopub.execute_input": "2022-12-23T08:54:37.144571Z",
     "iopub.status.idle": "2022-12-23T08:54:37.154938Z",
     "shell.execute_reply.started": "2022-12-23T08:54:37.144520Z",
     "shell.execute_reply": "2022-12-23T08:54:37.153349Z"
    },
    "trusted": true
   },
   "execution_count": 2,
   "outputs": []
  },
  {
   "cell_type": "code",
   "source": [
    "train = pd.read_csv('../Dataset/train.csv')\n",
    "train[\"first_day_of_month\"] = pd.to_datetime(train[\"first_day_of_month\"])\n",
    "train = train.sort_values(['cfips','first_day_of_month']).reset_index(drop=True)\n",
    "print(train.shape)\n",
    "train.head()"
   ],
   "metadata": {
    "execution": {
     "iopub.status.busy": "2022-12-23T08:54:37.169739Z",
     "iopub.execute_input": "2022-12-23T08:54:37.170296Z",
     "iopub.status.idle": "2022-12-23T08:54:37.433307Z",
     "shell.execute_reply.started": "2022-12-23T08:54:37.170247Z",
     "shell.execute_reply": "2022-12-23T08:54:37.432144Z"
    },
    "trusted": true
   },
   "execution_count": 3,
   "outputs": [
    {
     "name": "stdout",
     "output_type": "stream",
     "text": [
      "(122265, 7)\n"
     ]
    },
    {
     "data": {
      "text/plain": "            row_id  cfips          county    state first_day_of_month  \\\n0  1001_2019-08-01   1001  Autauga County  Alabama         2019-08-01   \n1  1001_2019-09-01   1001  Autauga County  Alabama         2019-09-01   \n2  1001_2019-10-01   1001  Autauga County  Alabama         2019-10-01   \n3  1001_2019-11-01   1001  Autauga County  Alabama         2019-11-01   \n4  1001_2019-12-01   1001  Autauga County  Alabama         2019-12-01   \n\n   microbusiness_density  active  \n0               3.007682    1249  \n1               2.884870    1198  \n2               3.055843    1269  \n3               2.993233    1243  \n4               2.993233    1243  ",
      "text/html": "<div>\n<style scoped>\n    .dataframe tbody tr th:only-of-type {\n        vertical-align: middle;\n    }\n\n    .dataframe tbody tr th {\n        vertical-align: top;\n    }\n\n    .dataframe thead th {\n        text-align: right;\n    }\n</style>\n<table border=\"1\" class=\"dataframe\">\n  <thead>\n    <tr style=\"text-align: right;\">\n      <th></th>\n      <th>row_id</th>\n      <th>cfips</th>\n      <th>county</th>\n      <th>state</th>\n      <th>first_day_of_month</th>\n      <th>microbusiness_density</th>\n      <th>active</th>\n    </tr>\n  </thead>\n  <tbody>\n    <tr>\n      <th>0</th>\n      <td>1001_2019-08-01</td>\n      <td>1001</td>\n      <td>Autauga County</td>\n      <td>Alabama</td>\n      <td>2019-08-01</td>\n      <td>3.007682</td>\n      <td>1249</td>\n    </tr>\n    <tr>\n      <th>1</th>\n      <td>1001_2019-09-01</td>\n      <td>1001</td>\n      <td>Autauga County</td>\n      <td>Alabama</td>\n      <td>2019-09-01</td>\n      <td>2.884870</td>\n      <td>1198</td>\n    </tr>\n    <tr>\n      <th>2</th>\n      <td>1001_2019-10-01</td>\n      <td>1001</td>\n      <td>Autauga County</td>\n      <td>Alabama</td>\n      <td>2019-10-01</td>\n      <td>3.055843</td>\n      <td>1269</td>\n    </tr>\n    <tr>\n      <th>3</th>\n      <td>1001_2019-11-01</td>\n      <td>1001</td>\n      <td>Autauga County</td>\n      <td>Alabama</td>\n      <td>2019-11-01</td>\n      <td>2.993233</td>\n      <td>1243</td>\n    </tr>\n    <tr>\n      <th>4</th>\n      <td>1001_2019-12-01</td>\n      <td>1001</td>\n      <td>Autauga County</td>\n      <td>Alabama</td>\n      <td>2019-12-01</td>\n      <td>2.993233</td>\n      <td>1243</td>\n    </tr>\n  </tbody>\n</table>\n</div>"
     },
     "execution_count": 3,
     "metadata": {},
     "output_type": "execute_result"
    }
   ]
  },
  {
   "cell_type": "code",
   "source": [
    "test = pd.read_csv('../Dataset/train.csv')\n",
    "test[\"first_day_of_month\"] = pd.to_datetime(test[\"first_day_of_month\"])\n",
    "test = test.sort_values(['cfips','first_day_of_month']).reset_index(drop=True)\n",
    "print(test.shape)\n",
    "test.head()"
   ],
   "metadata": {
    "execution": {
     "iopub.status.busy": "2022-12-23T08:54:37.436168Z",
     "iopub.execute_input": "2022-12-23T08:54:37.437254Z",
     "iopub.status.idle": "2022-12-23T08:54:37.482230Z",
     "shell.execute_reply.started": "2022-12-23T08:54:37.437217Z",
     "shell.execute_reply": "2022-12-23T08:54:37.481204Z"
    },
    "trusted": true
   },
   "execution_count": 4,
   "outputs": [
    {
     "name": "stdout",
     "output_type": "stream",
     "text": [
      "(122265, 7)\n"
     ]
    },
    {
     "data": {
      "text/plain": "            row_id  cfips          county    state first_day_of_month  \\\n0  1001_2019-08-01   1001  Autauga County  Alabama         2019-08-01   \n1  1001_2019-09-01   1001  Autauga County  Alabama         2019-09-01   \n2  1001_2019-10-01   1001  Autauga County  Alabama         2019-10-01   \n3  1001_2019-11-01   1001  Autauga County  Alabama         2019-11-01   \n4  1001_2019-12-01   1001  Autauga County  Alabama         2019-12-01   \n\n   microbusiness_density  active  \n0               3.007682    1249  \n1               2.884870    1198  \n2               3.055843    1269  \n3               2.993233    1243  \n4               2.993233    1243  ",
      "text/html": "<div>\n<style scoped>\n    .dataframe tbody tr th:only-of-type {\n        vertical-align: middle;\n    }\n\n    .dataframe tbody tr th {\n        vertical-align: top;\n    }\n\n    .dataframe thead th {\n        text-align: right;\n    }\n</style>\n<table border=\"1\" class=\"dataframe\">\n  <thead>\n    <tr style=\"text-align: right;\">\n      <th></th>\n      <th>row_id</th>\n      <th>cfips</th>\n      <th>county</th>\n      <th>state</th>\n      <th>first_day_of_month</th>\n      <th>microbusiness_density</th>\n      <th>active</th>\n    </tr>\n  </thead>\n  <tbody>\n    <tr>\n      <th>0</th>\n      <td>1001_2019-08-01</td>\n      <td>1001</td>\n      <td>Autauga County</td>\n      <td>Alabama</td>\n      <td>2019-08-01</td>\n      <td>3.007682</td>\n      <td>1249</td>\n    </tr>\n    <tr>\n      <th>1</th>\n      <td>1001_2019-09-01</td>\n      <td>1001</td>\n      <td>Autauga County</td>\n      <td>Alabama</td>\n      <td>2019-09-01</td>\n      <td>2.884870</td>\n      <td>1198</td>\n    </tr>\n    <tr>\n      <th>2</th>\n      <td>1001_2019-10-01</td>\n      <td>1001</td>\n      <td>Autauga County</td>\n      <td>Alabama</td>\n      <td>2019-10-01</td>\n      <td>3.055843</td>\n      <td>1269</td>\n    </tr>\n    <tr>\n      <th>3</th>\n      <td>1001_2019-11-01</td>\n      <td>1001</td>\n      <td>Autauga County</td>\n      <td>Alabama</td>\n      <td>2019-11-01</td>\n      <td>2.993233</td>\n      <td>1243</td>\n    </tr>\n    <tr>\n      <th>4</th>\n      <td>1001_2019-12-01</td>\n      <td>1001</td>\n      <td>Autauga County</td>\n      <td>Alabama</td>\n      <td>2019-12-01</td>\n      <td>2.993233</td>\n      <td>1243</td>\n    </tr>\n  </tbody>\n</table>\n</div>"
     },
     "execution_count": 4,
     "metadata": {},
     "output_type": "execute_result"
    }
   ]
  },
  {
   "cell_type": "code",
   "source": [
    "train.columns\n"
   ],
   "metadata": {
    "execution": {
     "iopub.status.busy": "2022-12-23T08:54:37.483657Z",
     "iopub.execute_input": "2022-12-23T08:54:37.484107Z",
     "iopub.status.idle": "2022-12-23T08:54:37.492715Z",
     "shell.execute_reply.started": "2022-12-23T08:54:37.484062Z",
     "shell.execute_reply": "2022-12-23T08:54:37.491358Z"
    },
    "trusted": true
   },
   "execution_count": 5,
   "outputs": [
    {
     "data": {
      "text/plain": "Index(['row_id', 'cfips', 'county', 'state', 'first_day_of_month',\n       'microbusiness_density', 'active'],\n      dtype='object')"
     },
     "execution_count": 5,
     "metadata": {},
     "output_type": "execute_result"
    }
   ]
  },
  {
   "cell_type": "code",
   "source": [
    "test.isnull().sum()"
   ],
   "metadata": {
    "execution": {
     "iopub.status.busy": "2022-12-23T08:54:37.496222Z",
     "iopub.execute_input": "2022-12-23T08:54:37.496551Z",
     "iopub.status.idle": "2022-12-23T08:54:37.510738Z",
     "shell.execute_reply.started": "2022-12-23T08:54:37.496521Z",
     "shell.execute_reply": "2022-12-23T08:54:37.509541Z"
    },
    "trusted": true
   },
   "execution_count": 6,
   "outputs": [
    {
     "data": {
      "text/plain": "row_id                   0\ncfips                    0\ncounty                   0\nstate                    0\nfirst_day_of_month       0\nmicrobusiness_density    0\nactive                   0\ndtype: int64"
     },
     "execution_count": 6,
     "metadata": {},
     "output_type": "execute_result"
    }
   ]
  },
  {
   "cell_type": "code",
   "source": [
    "VALIDATE = True\n",
    "VAL_MONTH = 1\n",
    "\n",
    "# DEFINE VALIDATION AND TRAIN MONTHS\n",
    "trn_months = train.first_day_of_month.values[-39:-1*VAL_MONTH]\n",
    "val_months = train.first_day_of_month.values[-1*VAL_MONTH:]\n",
    "if VAL_MONTH!=1: \n",
    "    val_months = train.first_day_of_month.values[-1*VAL_MONTH:-1*VAL_MONTH+1]"
   ],
   "metadata": {
    "execution": {
     "iopub.status.busy": "2022-12-23T08:54:37.512341Z",
     "iopub.execute_input": "2022-12-23T08:54:37.512712Z",
     "iopub.status.idle": "2022-12-23T08:54:37.519614Z",
     "shell.execute_reply.started": "2022-12-23T08:54:37.512679Z",
     "shell.execute_reply": "2022-12-23T08:54:37.518462Z"
    },
    "trusted": true
   },
   "execution_count": 7,
   "outputs": []
  },
  {
   "cell_type": "code",
   "source": [
    "IDS = train.cfips.unique()\n",
    "x_train = np.arange(39).reshape((-1,1))\n",
    "x_test = np.arange(38,47).reshape((-1,1))\n",
    "\n",
    "preds = np.zeros((len(IDS),8))\n",
    "last_preds = np.zeros((len(IDS),8))\n",
    "lin_trend = 0\n",
    "ct = 0\n",
    "for i,c in enumerate(IDS):\n",
    "    df = train.loc[train.cfips==c]\n",
    "    last = df.microbusiness_density.values[-1]\n",
    "    active = df.active.values[-1]\n",
    "    last_preds[i,] = [last]*8\n",
    "    \n",
    "    model = GradientBoostingRegressor()\n",
    "    model.fit(x_train,df.microbusiness_density)\n",
    "    p = model.predict(x_train)\n",
    "    \n",
    "    p2 = model.predict(x_test)\n",
    "    shift =  last - p2[0]\n",
    "    preds[i,] = p2[1:]+shift"
   ],
   "metadata": {
    "execution": {
     "iopub.status.busy": "2022-12-23T08:54:37.520922Z",
     "iopub.execute_input": "2022-12-23T08:54:37.521241Z",
     "iopub.status.idle": "2022-12-23T09:01:06.685992Z",
     "shell.execute_reply.started": "2022-12-23T08:54:37.521212Z",
     "shell.execute_reply": "2022-12-23T09:01:06.684183Z"
    },
    "trusted": true
   },
   "execution_count": 8,
   "outputs": []
  },
  {
   "cell_type": "code",
   "source": [
    "test['microbusiness_density'] = preds.reshape((-1))\n",
    "sub = test[['row_id','microbusiness_density']]\n",
    "sub.to_csv('../Submission/submission_gradboost.csv',index=False)\n",
    "print( sub.shape )\n",
    "sub.head()"
   ],
   "metadata": {
    "execution": {
     "iopub.status.busy": "2022-12-23T09:01:06.687804Z",
     "iopub.execute_input": "2022-12-23T09:01:06.688154Z",
     "iopub.status.idle": "2022-12-23T09:01:06.753436Z",
     "shell.execute_reply.started": "2022-12-23T09:01:06.688123Z",
     "shell.execute_reply": "2022-12-23T09:01:06.752208Z"
    },
    "trusted": true
   },
   "execution_count": 25,
   "outputs": [
    {
     "name": "stdout",
     "text": "(25080, 2)\n",
     "output_type": "stream"
    },
    {
     "execution_count": 25,
     "output_type": "execute_result",
     "data": {
      "text/plain": "            row_id  microbusiness_density\n0  1001_2022-11-01               3.463856\n1  1001_2022-12-01               3.463856\n2  1001_2023-01-01               3.463856\n3  1001_2023-02-01               3.463856\n4  1001_2023-03-01               3.463856",
      "text/html": "<div>\n<style scoped>\n    .dataframe tbody tr th:only-of-type {\n        vertical-align: middle;\n    }\n\n    .dataframe tbody tr th {\n        vertical-align: top;\n    }\n\n    .dataframe thead th {\n        text-align: right;\n    }\n</style>\n<table border=\"1\" class=\"dataframe\">\n  <thead>\n    <tr style=\"text-align: right;\">\n      <th></th>\n      <th>row_id</th>\n      <th>microbusiness_density</th>\n    </tr>\n  </thead>\n  <tbody>\n    <tr>\n      <th>0</th>\n      <td>1001_2022-11-01</td>\n      <td>3.463856</td>\n    </tr>\n    <tr>\n      <th>1</th>\n      <td>1001_2022-12-01</td>\n      <td>3.463856</td>\n    </tr>\n    <tr>\n      <th>2</th>\n      <td>1001_2023-01-01</td>\n      <td>3.463856</td>\n    </tr>\n    <tr>\n      <th>3</th>\n      <td>1001_2023-02-01</td>\n      <td>3.463856</td>\n    </tr>\n    <tr>\n      <th>4</th>\n      <td>1001_2023-03-01</td>\n      <td>3.463856</td>\n    </tr>\n  </tbody>\n</table>\n</div>"
     },
     "metadata": {}
    }
   ]
  },
  {
   "cell_type": "code",
   "source": [],
   "metadata": {},
   "execution_count": null,
   "outputs": []
  }
 ]
}
